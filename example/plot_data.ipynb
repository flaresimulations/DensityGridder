{
 "cells": [
  {
   "cell_type": "markdown",
   "id": "northern-desktop",
   "metadata": {},
   "source": [
    "# Script to plot test data for DensityGridder with velocity divergence data"
   ]
  },
  {
   "cell_type": "code",
   "execution_count": null,
   "id": "happy-foster",
   "metadata": {},
   "outputs": [],
   "source": [
    "import glob\n",
    "import numpy as np\n",
    "import h5py\n",
    "import matplotlib.pyplot as plt\n",
    "%matplotlib inline\n",
    "import seaborn as sns\n",
    "sns.set_context('poster')\n",
    "sns.set_style('whitegrid')"
   ]
  },
  {
   "cell_type": "code",
   "execution_count": null,
   "id": "purple-broadcasting",
   "metadata": {},
   "outputs": [],
   "source": [
    "N = np.fromfile('grid_N.dat',dtype=np.int32)\n",
    "divv = np.fromfile('grid_div.dat',dtype=np.float64)"
   ]
  },
  {
   "cell_type": "code",
   "execution_count": null,
   "id": "noticed-drawing",
   "metadata": {},
   "outputs": [],
   "source": [
    "#divv=divv.reshape(len(divv)//3,3)\n",
    "divv=divv.reshape(3,len(divv)//3)  # Not clear if this is the right way around, but it does co-locate the NANs"
   ]
  },
  {
   "cell_type": "code",
   "execution_count": null,
   "id": "intellectual-material",
   "metadata": {},
   "outputs": [],
   "source": [
    "print(len(N))\n",
    "print(divv.shape)"
   ]
  },
  {
   "cell_type": "code",
   "execution_count": null,
   "id": "colonial-inquiry",
   "metadata": {},
   "outputs": [],
   "source": [
    "L=int(len(N)**(1/3)+0.5)\n",
    "N=N.reshape(L,L,L)\n",
    "divv=divv.reshape(3,L,L,L)\n",
    "divv_sum=np.sum(divv,0)"
   ]
  },
  {
   "cell_type": "markdown",
   "id": "metropolitan-jungle",
   "metadata": {},
   "source": [
    "Input velocities were a sinusoidal wave, so output divergence should be too.  So I think that means that I should plot just one line of cells against N."
   ]
  },
  {
   "cell_type": "code",
   "execution_count": null,
   "id": "beneficial-command",
   "metadata": {},
   "outputs": [],
   "source": [
    "yoff=3\n",
    "zoff=15\n",
    "fig=plt.figure(figsize=[12,8])\n",
    "plt.plot(divv[0,:,yoff,zoff],'.',label=r'$\\nabla_x.v_x$')\n",
    "plt.plot(divv[1,:,yoff,zoff],'.',label=r'$\\nabla_y.v_y$')\n",
    "plt.plot(divv[2,:,yoff,zoff],'.',label=r'$\\nabla_z.v_z$')\n",
    "plt.plot(divv_sum[:,yoff,zoff],label=r'$\\nabla.v$')\n",
    "plt.plot([0,L],[4*np.pi/L,4*np.pi/L],':k')\n",
    "plt.plot([0,L],[-4*np.pi/L,-4*np.pi/L],':k')\n",
    "plt.xlabel(r'$N$')\n",
    "plt.ylabel(r'$\\nabla.v$')\n",
    "plt.legend()"
   ]
  },
  {
   "cell_type": "code",
   "execution_count": null,
   "id": "voluntary-eugene",
   "metadata": {},
   "outputs": [],
   "source": []
  }
 ],
 "metadata": {
  "language_info": {
   "name": "python",
   "pygments_lexer": "ipython3"
  }
 },
 "nbformat": 4,
 "nbformat_minor": 5
}
