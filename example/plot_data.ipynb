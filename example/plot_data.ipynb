{
 "cells": [
  {
   "cell_type": "markdown",
   "id": "northern-desktop",
   "metadata": {},
   "source": [
    "# Script to plot test data for DensityGridder with velocity divergence data"
   ]
  },
  {
   "cell_type": "code",
   "execution_count": null,
   "id": "happy-foster",
   "metadata": {},
   "outputs": [],
   "source": [
    "import glob\n",
    "import numpy as np\n",
    "import h5py\n",
    "import matplotlib.pyplot as plt\n",
    "%matplotlib inline\n",
    "import seaborn as sns\n",
    "sns.set_context('poster')\n",
    "sns.set_style('whitegrid')"
   ]
  },
  {
   "cell_type": "code",
   "execution_count": null,
   "id": "purple-broadcasting",
   "metadata": {},
   "outputs": [],
   "source": [
    "N = np.fromfile('grid_N.dat',dtype=np.int32)\n",
    "divv = np.fromfile('grid_div.dat',dtype=np.float32)"
   ]
  },
  {
   "cell_type": "code",
   "execution_count": null,
   "id": "noticed-drawing",
   "metadata": {},
   "outputs": [],
   "source": [
    "divv=divv.reshape(3,len(divv)//3)  # Not clear if this is the right way around, but it does co-locate the NANs"
   ]
  },
  {
   "cell_type": "code",
   "execution_count": null,
   "id": "connected-secret",
   "metadata": {},
   "outputs": [],
   "source": [
    "divv[:,0:5]"
   ]
  },
  {
   "cell_type": "code",
   "execution_count": null,
   "id": "victorian-apollo",
   "metadata": {},
   "outputs": [],
   "source": [
    "N[0:5]"
   ]
  },
  {
   "cell_type": "code",
   "execution_count": null,
   "id": "intellectual-material",
   "metadata": {},
   "outputs": [],
   "source": []
  }
 ],
 "metadata": {
  "language_info": {
   "name": "python",
   "pygments_lexer": "ipython3"
  }
 },
 "nbformat": 4,
 "nbformat_minor": 5
}
